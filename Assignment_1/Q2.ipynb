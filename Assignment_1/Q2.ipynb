{
 "cells": [
  {
   "cell_type": "code",
   "execution_count": 1,
   "metadata": {},
   "outputs": [],
   "source": [
    "import numpy as np"
   ]
  },
  {
   "cell_type": "markdown",
   "metadata": {},
   "source": [
    "# Q1"
   ]
  },
  {
   "cell_type": "code",
   "execution_count": 6,
   "metadata": {},
   "outputs": [
    {
     "name": "stdout",
     "output_type": "stream",
     "text": [
      "Sum:  55\n",
      "Mean: 5.5\n",
      "Product:  3628800\n"
     ]
    }
   ],
   "source": [
    "arr = np.arange(1, 11)\n",
    "print(\"Sum: \", arr.sum())\n",
    "print(\"Mean:\", arr.mean())\n",
    "print(\"Product: \", arr.prod())"
   ]
  },
  {
   "cell_type": "markdown",
   "metadata": {},
   "source": [
    "# Q2"
   ]
  },
  {
   "cell_type": "code",
   "execution_count": 12,
   "metadata": {},
   "outputs": [
    {
     "data": {
      "text/plain": [
       "array([[4, 5, 4],\n",
       "       [0, 9, 7],\n",
       "       [1, 1, 0]], dtype=int32)"
      ]
     },
     "execution_count": 12,
     "metadata": {},
     "output_type": "execute_result"
    }
   ],
   "source": [
    "arr = np.random.randint(10, size=(3, 3))\n",
    "arr.transpose()"
   ]
  },
  {
   "cell_type": "markdown",
   "metadata": {},
   "source": [
    "# Q3"
   ]
  },
  {
   "cell_type": "code",
   "execution_count": 15,
   "metadata": {},
   "outputs": [
    {
     "data": {
      "text/plain": [
       "array([[ 0,  1,  2,  3,  4],\n",
       "       [ 5,  6,  7,  8,  9],\n",
       "       [10, 11, 12, 13, 14],\n",
       "       [15, 16, 17, 18, 19]])"
      ]
     },
     "execution_count": 15,
     "metadata": {},
     "output_type": "execute_result"
    }
   ],
   "source": [
    "arr = np.arange(20)\n",
    "arr.reshape(4,5)"
   ]
  },
  {
   "cell_type": "markdown",
   "metadata": {},
   "source": [
    "# Q4"
   ]
  },
  {
   "cell_type": "code",
   "execution_count": 20,
   "metadata": {},
   "outputs": [
    {
     "name": "stdout",
     "output_type": "stream",
     "text": [
      "Addition:\n",
      " [[26 28 30 32 34]\n",
      " [36 38 40 42 44]\n",
      " [46 48 50 52 54]\n",
      " [56 58 60 62 64]\n",
      " [66 68 70 72 74]]\n",
      "Subtraction:\n",
      " [[-26 -26 -26 -26 -26]\n",
      " [-26 -26 -26 -26 -26]\n",
      " [-26 -26 -26 -26 -26]\n",
      " [-26 -26 -26 -26 -26]\n",
      " [-26 -26 -26 -26 -26]]\n",
      "Multiplication:\n",
      " [[   0   27   56   87  120]\n",
      " [ 155  192  231  272  315]\n",
      " [ 360  407  456  507  560]\n",
      " [ 615  672  731  792  855]\n",
      " [ 920  987 1056 1127 1200]]\n",
      "Division:\n",
      " [[0.         0.03703704 0.07142857 0.10344828 0.13333333]\n",
      " [0.16129032 0.1875     0.21212121 0.23529412 0.25714286]\n",
      " [0.27777778 0.2972973  0.31578947 0.33333333 0.35      ]\n",
      " [0.36585366 0.38095238 0.39534884 0.40909091 0.42222222]\n",
      " [0.43478261 0.44680851 0.45833333 0.46938776 0.48      ]]\n"
     ]
    }
   ],
   "source": [
    "arr1 = np.arange(25)\n",
    "arr1 = arr1.reshape(5,5)\n",
    "arr2 = np.arange(26, 51)\n",
    "arr2 = arr2.reshape(5,5)\n",
    "print(\"Addition:\\n\", arr1 + arr2)\n",
    "print(\"Subtraction:\\n\", arr1 - arr2)\n",
    "print(\"Multiplication:\\n\", arr1 * arr2)\n",
    "print(\"Division:\\n\", arr1 / arr2)\n"
   ]
  },
  {
   "cell_type": "markdown",
   "metadata": {},
   "source": [
    "# Q5"
   ]
  },
  {
   "cell_type": "code",
   "execution_count": 21,
   "metadata": {},
   "outputs": [
    {
     "data": {
      "text/plain": [
       "array([0.        , 1.        , 1.41421356, 1.73205081, 2.        ,\n",
       "       2.23606798, 2.44948974, 2.64575131, 2.82842712, 3.        ])"
      ]
     },
     "execution_count": 21,
     "metadata": {},
     "output_type": "execute_result"
    }
   ],
   "source": [
    "arr = np.arange(10)\n",
    "np.sqrt(arr)"
   ]
  },
  {
   "cell_type": "markdown",
   "metadata": {},
   "source": [
    "# Q6"
   ]
  },
  {
   "cell_type": "code",
   "execution_count": 25,
   "metadata": {},
   "outputs": [
    {
     "data": {
      "text/plain": [
       "np.float64(-2.0)"
      ]
     },
     "execution_count": 25,
     "metadata": {},
     "output_type": "execute_result"
    }
   ],
   "source": [
    "arr = np.arange(4).reshape(2, 2)\n",
    "np.linalg.det(arr)"
   ]
  },
  {
   "cell_type": "markdown",
   "metadata": {},
   "source": [
    "# Q7"
   ]
  },
  {
   "cell_type": "code",
   "execution_count": 26,
   "metadata": {},
   "outputs": [
    {
     "name": "stdout",
     "output_type": "stream",
     "text": [
      "Max Index:  41\n",
      "Min Index:  17\n"
     ]
    }
   ],
   "source": [
    "arr = np.random.randn(50)\n",
    "print(\"Max Index: \", np.argmax(arr))\n",
    "print(\"Min Index: \", np.argmin(arr))"
   ]
  },
  {
   "cell_type": "markdown",
   "metadata": {},
   "source": [
    "# Q8"
   ]
  },
  {
   "cell_type": "code",
   "execution_count": 35,
   "metadata": {},
   "outputs": [
    {
     "data": {
      "text/plain": [
       "array([ 1.75      ,  0.28571429, -0.64285714])"
      ]
     },
     "execution_count": 35,
     "metadata": {},
     "output_type": "execute_result"
    }
   ],
   "source": [
    "# Ax = B\n",
    "A = np.array([\n",
    "    [2, 3, -1],\n",
    "    [4, 1, 2],\n",
    "    [-2, 5, 3]\n",
    "])\n",
    "\n",
    "B = np.array([5, 6, -4])\n",
    "np.linalg.solve(A, B)"
   ]
  },
  {
   "cell_type": "markdown",
   "metadata": {},
   "source": [
    "# Q9"
   ]
  },
  {
   "cell_type": "code",
   "execution_count": 36,
   "metadata": {},
   "outputs": [
    {
     "data": {
      "text/plain": [
       "np.float64(18.0)"
      ]
     },
     "execution_count": 36,
     "metadata": {},
     "output_type": "execute_result"
    }
   ],
   "source": [
    "arr = np.arange(25)\n",
    "np.percentile(arr, 75)"
   ]
  },
  {
   "cell_type": "markdown",
   "metadata": {},
   "source": [
    "# Q10"
   ]
  },
  {
   "cell_type": "code",
   "execution_count": 39,
   "metadata": {},
   "outputs": [
    {
     "data": {
      "text/plain": [
       "array([-1.67604128, -1.84533837,  0.35552391,  0.18622681,  0.18622681,\n",
       "        0.8634152 ,  1.0327123 ,  0.52482101, -0.66025868,  1.0327123 ])"
      ]
     },
     "execution_count": 39,
     "metadata": {},
     "output_type": "execute_result"
    }
   ],
   "source": [
    "def normalize_array(arr):\n",
    "    mean = np.mean(arr)\n",
    "    std_dev = np.std(arr)\n",
    "\n",
    "    return (arr - mean) / std_dev\n",
    "\n",
    "arr = np.random.randint(1, 20, size=10)\n",
    "normalize_array(arr)"
   ]
  }
 ],
 "metadata": {
  "kernelspec": {
   "display_name": "Python 3",
   "language": "python",
   "name": "python3"
  },
  "language_info": {
   "codemirror_mode": {
    "name": "ipython",
    "version": 3
   },
   "file_extension": ".py",
   "mimetype": "text/x-python",
   "name": "python",
   "nbconvert_exporter": "python",
   "pygments_lexer": "ipython3",
   "version": "3.12.3"
  }
 },
 "nbformat": 4,
 "nbformat_minor": 2
}
